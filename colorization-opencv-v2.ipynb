{
 "cells": [
  {
   "cell_type": "code",
   "execution_count": 1,
   "id": "162d4f9f",
   "metadata": {
    "_cell_guid": "b1076dfc-b9ad-4769-8c92-a6c4dae69d19",
    "_uuid": "8f2839f25d086af736a60e9eeb907d3b93b6e0e5",
    "execution": {
     "iopub.execute_input": "2022-06-28T03:54:21.712730Z",
     "iopub.status.busy": "2022-06-28T03:54:21.711642Z",
     "iopub.status.idle": "2022-06-28T03:54:28.275549Z",
     "shell.execute_reply": "2022-06-28T03:54:28.274195Z"
    },
    "papermill": {
     "duration": 6.582364,
     "end_time": "2022-06-28T03:54:28.278661",
     "exception": false,
     "start_time": "2022-06-28T03:54:21.696297",
     "status": "completed"
    },
    "tags": []
   },
   "outputs": [],
   "source": [
    "import tensorflow as tf\n",
    "from keras.layers import Conv2D, UpSampling2D, InputLayer\n",
    "from keras.models import Sequential\n",
    "from tensorflow.keras.utils import array_to_img, img_to_array, load_img\n",
    "import numpy as np\n",
    "import cv2 as cv\n",
    "import os\n",
    "import gc"
   ]
  },
  {
   "cell_type": "code",
   "execution_count": 2,
   "id": "e863d0ab",
   "metadata": {
    "execution": {
     "iopub.execute_input": "2022-06-28T03:54:28.294940Z",
     "iopub.status.busy": "2022-06-28T03:54:28.293500Z",
     "iopub.status.idle": "2022-06-28T03:54:28.300415Z",
     "shell.execute_reply": "2022-06-28T03:54:28.299222Z"
    },
    "papermill": {
     "duration": 0.017609,
     "end_time": "2022-06-28T03:54:28.303454",
     "exception": false,
     "start_time": "2022-06-28T03:54:28.285845",
     "status": "completed"
    },
    "tags": []
   },
   "outputs": [],
   "source": [
    "# Constants\n",
    "num_samples = 5000\n",
    "width = 224\n",
    "height = 224"
   ]
  },
  {
   "cell_type": "markdown",
   "id": "db57d462",
   "metadata": {
    "papermill": {
     "duration": 0.006082,
     "end_time": "2022-06-28T03:54:28.315768",
     "exception": false,
     "start_time": "2022-06-28T03:54:28.309686",
     "status": "completed"
    },
    "tags": []
   },
   "source": [
    "## Loading images and preprocess"
   ]
  },
  {
   "cell_type": "code",
   "execution_count": 3,
   "id": "1fecd709",
   "metadata": {
    "execution": {
     "iopub.execute_input": "2022-06-28T03:54:28.330376Z",
     "iopub.status.busy": "2022-06-28T03:54:28.330016Z",
     "iopub.status.idle": "2022-06-28T03:54:28.336933Z",
     "shell.execute_reply": "2022-06-28T03:54:28.335568Z"
    },
    "papermill": {
     "duration": 0.017122,
     "end_time": "2022-06-28T03:54:28.339486",
     "exception": false,
     "start_time": "2022-06-28T03:54:28.322364",
     "status": "completed"
    },
    "tags": []
   },
   "outputs": [],
   "source": [
    "# load all images from a directory\n",
    "def load_images(path):\n",
    "    images = []\n",
    "    x = 0\n",
    "    for filename in os.listdir(path):\n",
    "        if x >= num_samples:\n",
    "            break\n",
    "        img = cv.imread(os.path.join(path, filename))\n",
    "        img = cv.resize(img, (width, height))\n",
    "        if img is not None:\n",
    "            images.append(img)\n",
    "        x += 1 \n",
    "    return images"
   ]
  },
  {
   "cell_type": "code",
   "execution_count": 4,
   "id": "60352787",
   "metadata": {
    "execution": {
     "iopub.execute_input": "2022-06-28T03:54:28.354757Z",
     "iopub.status.busy": "2022-06-28T03:54:28.354052Z",
     "iopub.status.idle": "2022-06-28T03:55:10.159755Z",
     "shell.execute_reply": "2022-06-28T03:55:10.158340Z"
    },
    "papermill": {
     "duration": 41.823024,
     "end_time": "2022-06-28T03:55:10.168861",
     "exception": false,
     "start_time": "2022-06-28T03:54:28.345837",
     "status": "completed"
    },
    "tags": []
   },
   "outputs": [
    {
     "data": {
      "text/plain": [
       "5000"
      ]
     },
     "execution_count": 4,
     "metadata": {},
     "output_type": "execute_result"
    }
   ],
   "source": [
    "imgs = load_images('../input/image-colorization/unlabeled2017_subsample')\n",
    "len(imgs)"
   ]
  },
  {
   "cell_type": "code",
   "execution_count": 5,
   "id": "8917abd7",
   "metadata": {
    "execution": {
     "iopub.execute_input": "2022-06-28T03:55:10.183518Z",
     "iopub.status.busy": "2022-06-28T03:55:10.183168Z",
     "iopub.status.idle": "2022-06-28T03:55:10.492515Z",
     "shell.execute_reply": "2022-06-28T03:55:10.491099Z"
    },
    "papermill": {
     "duration": 0.320988,
     "end_time": "2022-06-28T03:55:10.496379",
     "exception": false,
     "start_time": "2022-06-28T03:55:10.175391",
     "status": "completed"
    },
    "tags": []
   },
   "outputs": [],
   "source": [
    "# convert to numpy array\n",
    "imgs = np.array(imgs)"
   ]
  },
  {
   "cell_type": "code",
   "execution_count": 6,
   "id": "88aa3901",
   "metadata": {
    "execution": {
     "iopub.execute_input": "2022-06-28T03:55:10.532134Z",
     "iopub.status.busy": "2022-06-28T03:55:10.531530Z",
     "iopub.status.idle": "2022-06-28T03:55:18.141765Z",
     "shell.execute_reply": "2022-06-28T03:55:18.140213Z"
    },
    "papermill": {
     "duration": 7.63021,
     "end_time": "2022-06-28T03:55:18.148499",
     "exception": false,
     "start_time": "2022-06-28T03:55:10.518289",
     "status": "completed"
    },
    "tags": []
   },
   "outputs": [
    {
     "data": {
      "text/plain": [
       "127"
      ]
     },
     "execution_count": 6,
     "metadata": {},
     "output_type": "execute_result"
    }
   ],
   "source": [
    "#convert a list of images to lab \n",
    "lab_images = np.array([cv.cvtColor(np.float32(1.0/255*imgs[i]), cv.COLOR_BGR2LAB) for i in range(num_samples)])\n",
    "\n",
    "#free memory\n",
    "del imgs\n",
    "gc.collect()"
   ]
  },
  {
   "cell_type": "code",
   "execution_count": 7,
   "id": "dc223574",
   "metadata": {
    "execution": {
     "iopub.execute_input": "2022-06-28T03:55:18.170714Z",
     "iopub.status.busy": "2022-06-28T03:55:18.170377Z",
     "iopub.status.idle": "2022-06-28T03:55:18.782352Z",
     "shell.execute_reply": "2022-06-28T03:55:18.781007Z"
    },
    "papermill": {
     "duration": 0.627565,
     "end_time": "2022-06-28T03:55:18.785471",
     "exception": false,
     "start_time": "2022-06-28T03:55:18.157906",
     "status": "completed"
    },
    "tags": []
   },
   "outputs": [],
   "source": [
    "#get the L channel\n",
    "l_images = np.array([np.float32(lab_images[i][:, :, 0]) for i in range(num_samples)])"
   ]
  },
  {
   "cell_type": "code",
   "execution_count": 8,
   "id": "9c408a35",
   "metadata": {
    "execution": {
     "iopub.execute_input": "2022-06-28T03:55:18.801122Z",
     "iopub.status.busy": "2022-06-28T03:55:18.799927Z",
     "iopub.status.idle": "2022-06-28T03:55:18.810329Z",
     "shell.execute_reply": "2022-06-28T03:55:18.809107Z"
    },
    "papermill": {
     "duration": 0.020763,
     "end_time": "2022-06-28T03:55:18.813223",
     "exception": false,
     "start_time": "2022-06-28T03:55:18.792460",
     "status": "completed"
    },
    "tags": []
   },
   "outputs": [
    {
     "data": {
      "text/plain": [
       "(5000, 224, 224)"
      ]
     },
     "execution_count": 8,
     "metadata": {},
     "output_type": "execute_result"
    }
   ],
   "source": [
    "l_images.shape"
   ]
  },
  {
   "cell_type": "code",
   "execution_count": 9,
   "id": "7b8a82b6",
   "metadata": {
    "execution": {
     "iopub.execute_input": "2022-06-28T03:55:18.828648Z",
     "iopub.status.busy": "2022-06-28T03:55:18.828317Z",
     "iopub.status.idle": "2022-06-28T03:55:21.565394Z",
     "shell.execute_reply": "2022-06-28T03:55:21.564099Z"
    },
    "papermill": {
     "duration": 2.748201,
     "end_time": "2022-06-28T03:55:21.568325",
     "exception": false,
     "start_time": "2022-06-28T03:55:18.820124",
     "status": "completed"
    },
    "tags": []
   },
   "outputs": [
    {
     "data": {
      "text/plain": [
       "63"
      ]
     },
     "execution_count": 9,
     "metadata": {},
     "output_type": "execute_result"
    }
   ],
   "source": [
    "#get the A and B channels\n",
    "ab_images = np.array([np.float32(lab_images[i][:, :, 1:]) for i in range(num_samples)])\n",
    "ab_images /= 128\n",
    "ab_images.shape\n",
    "# Free memory\n",
    "del lab_images\n",
    "gc.collect()"
   ]
  },
  {
   "cell_type": "code",
   "execution_count": 10,
   "id": "c371b8d5",
   "metadata": {
    "execution": {
     "iopub.execute_input": "2022-06-28T03:55:21.585524Z",
     "iopub.status.busy": "2022-06-28T03:55:21.583314Z",
     "iopub.status.idle": "2022-06-28T03:55:21.592552Z",
     "shell.execute_reply": "2022-06-28T03:55:21.591169Z"
    },
    "papermill": {
     "duration": 0.020006,
     "end_time": "2022-06-28T03:55:21.595434",
     "exception": false,
     "start_time": "2022-06-28T03:55:21.575428",
     "status": "completed"
    },
    "tags": []
   },
   "outputs": [
    {
     "data": {
      "text/plain": [
       "(5000, 224, 224, 1)"
      ]
     },
     "execution_count": 10,
     "metadata": {},
     "output_type": "execute_result"
    }
   ],
   "source": [
    "l_images = l_images.reshape(num_samples,width,height,1)\n",
    "l_images.shape"
   ]
  },
  {
   "cell_type": "markdown",
   "id": "d5e51518",
   "metadata": {
    "papermill": {
     "duration": 0.006788,
     "end_time": "2022-06-28T03:55:21.609495",
     "exception": false,
     "start_time": "2022-06-28T03:55:21.602707",
     "status": "completed"
    },
    "tags": []
   },
   "source": [
    "## Model"
   ]
  },
  {
   "cell_type": "code",
   "execution_count": 11,
   "id": "70b1ce6e",
   "metadata": {
    "execution": {
     "iopub.execute_input": "2022-06-28T03:55:21.625070Z",
     "iopub.status.busy": "2022-06-28T03:55:21.624698Z",
     "iopub.status.idle": "2022-06-28T03:55:21.637735Z",
     "shell.execute_reply": "2022-06-28T03:55:21.636474Z"
    },
    "papermill": {
     "duration": 0.02402,
     "end_time": "2022-06-28T03:55:21.640605",
     "exception": false,
     "start_time": "2022-06-28T03:55:21.616585",
     "status": "completed"
    },
    "tags": []
   },
   "outputs": [],
   "source": [
    "# Building the neural network\n",
    "def buildSimpleNN():\n",
    "    model = Sequential()\n",
    "    model.add(InputLayer(input_shape=(None, None, 1)))\n",
    "    model.add(Conv2D(8, (3, 3), activation='relu', padding='same', strides=2))\n",
    "    model.add(Conv2D(8, (3, 3), activation='relu', padding='same'))\n",
    "    model.add(Conv2D(16, (3, 3), activation='relu', padding='same'))\n",
    "    model.add(Conv2D(16, (3, 3), activation='relu', padding='same', strides=2))\n",
    "    model.add(Conv2D(32, (3, 3), activation='relu', padding='same'))\n",
    "    model.add(Conv2D(32, (3, 3), activation='relu', padding='same', strides=2))\n",
    "    model.add(UpSampling2D((2, 2)))\n",
    "    model.add(Conv2D(32, (3, 3), activation='relu', padding='same'))\n",
    "    model.add(UpSampling2D((2, 2)))\n",
    "    model.add(Conv2D(16, (3, 3), activation='relu', padding='same'))\n",
    "    model.add(UpSampling2D((2, 2)))\n",
    "    model.add(Conv2D(2, (3, 3), activation='tanh', padding='same'))\n",
    "\n",
    "    model.compile(optimizer='rmsprop', loss='mse')\n",
    "\n",
    "    return model"
   ]
  },
  {
   "cell_type": "markdown",
   "id": "35658a92",
   "metadata": {
    "papermill": {
     "duration": 0.006863,
     "end_time": "2022-06-28T03:55:21.654720",
     "exception": false,
     "start_time": "2022-06-28T03:55:21.647857",
     "status": "completed"
    },
    "tags": []
   },
   "source": [
    "## Training model"
   ]
  },
  {
   "cell_type": "code",
   "execution_count": 12,
   "id": "2bee3cef",
   "metadata": {
    "execution": {
     "iopub.execute_input": "2022-06-28T03:55:21.670208Z",
     "iopub.status.busy": "2022-06-28T03:55:21.669703Z",
     "iopub.status.idle": "2022-06-28T03:55:22.815284Z",
     "shell.execute_reply": "2022-06-28T03:55:22.813985Z"
    },
    "papermill": {
     "duration": 1.156594,
     "end_time": "2022-06-28T03:55:22.818406",
     "exception": false,
     "start_time": "2022-06-28T03:55:21.661812",
     "status": "completed"
    },
    "tags": []
   },
   "outputs": [],
   "source": [
    "X = l_images.astype(np.float32)\n",
    "Y = ab_images.astype(np.float32)"
   ]
  },
  {
   "cell_type": "code",
   "execution_count": 13,
   "id": "58a9ed6c",
   "metadata": {
    "execution": {
     "iopub.execute_input": "2022-06-28T03:55:22.836817Z",
     "iopub.status.busy": "2022-06-28T03:55:22.834692Z",
     "iopub.status.idle": "2022-06-28T03:55:22.842372Z",
     "shell.execute_reply": "2022-06-28T03:55:22.841154Z"
    },
    "papermill": {
     "duration": 0.01927,
     "end_time": "2022-06-28T03:55:22.845180",
     "exception": false,
     "start_time": "2022-06-28T03:55:22.825910",
     "status": "completed"
    },
    "tags": []
   },
   "outputs": [],
   "source": [
    "# Training the neural network\n",
    "def trainModel(X, Y, model):\n",
    "    print('Training model...')\n",
    "    model.fit(x=X, y=Y, batch_size=1, epochs=30, verbose=0)\n",
    "    print('Model trained.')"
   ]
  },
  {
   "cell_type": "code",
   "execution_count": 14,
   "id": "5464c423",
   "metadata": {
    "execution": {
     "iopub.execute_input": "2022-06-28T03:55:22.860949Z",
     "iopub.status.busy": "2022-06-28T03:55:22.859864Z",
     "iopub.status.idle": "2022-06-28T03:55:26.074099Z",
     "shell.execute_reply": "2022-06-28T03:55:26.072649Z"
    },
    "papermill": {
     "duration": 3.226137,
     "end_time": "2022-06-28T03:55:26.078044",
     "exception": false,
     "start_time": "2022-06-28T03:55:22.851907",
     "status": "completed"
    },
    "tags": []
   },
   "outputs": [
    {
     "name": "stderr",
     "output_type": "stream",
     "text": [
      "2022-06-28 03:55:22.952426: I tensorflow/stream_executor/cuda/cuda_gpu_executor.cc:937] successful NUMA node read from SysFS had negative value (-1), but there must be at least one NUMA node, so returning NUMA node zero\n",
      "2022-06-28 03:55:23.110991: I tensorflow/stream_executor/cuda/cuda_gpu_executor.cc:937] successful NUMA node read from SysFS had negative value (-1), but there must be at least one NUMA node, so returning NUMA node zero\n",
      "2022-06-28 03:55:23.112085: I tensorflow/stream_executor/cuda/cuda_gpu_executor.cc:937] successful NUMA node read from SysFS had negative value (-1), but there must be at least one NUMA node, so returning NUMA node zero\n",
      "2022-06-28 03:55:23.114407: I tensorflow/core/platform/cpu_feature_guard.cc:142] This TensorFlow binary is optimized with oneAPI Deep Neural Network Library (oneDNN) to use the following CPU instructions in performance-critical operations:  AVX2 FMA\n",
      "To enable them in other operations, rebuild TensorFlow with the appropriate compiler flags.\n",
      "2022-06-28 03:55:23.120093: I tensorflow/stream_executor/cuda/cuda_gpu_executor.cc:937] successful NUMA node read from SysFS had negative value (-1), but there must be at least one NUMA node, so returning NUMA node zero\n",
      "2022-06-28 03:55:23.121142: I tensorflow/stream_executor/cuda/cuda_gpu_executor.cc:937] successful NUMA node read from SysFS had negative value (-1), but there must be at least one NUMA node, so returning NUMA node zero\n",
      "2022-06-28 03:55:23.122169: I tensorflow/stream_executor/cuda/cuda_gpu_executor.cc:937] successful NUMA node read from SysFS had negative value (-1), but there must be at least one NUMA node, so returning NUMA node zero\n",
      "2022-06-28 03:55:25.578788: I tensorflow/stream_executor/cuda/cuda_gpu_executor.cc:937] successful NUMA node read from SysFS had negative value (-1), but there must be at least one NUMA node, so returning NUMA node zero\n",
      "2022-06-28 03:55:25.579910: I tensorflow/stream_executor/cuda/cuda_gpu_executor.cc:937] successful NUMA node read from SysFS had negative value (-1), but there must be at least one NUMA node, so returning NUMA node zero\n",
      "2022-06-28 03:55:25.580845: I tensorflow/stream_executor/cuda/cuda_gpu_executor.cc:937] successful NUMA node read from SysFS had negative value (-1), but there must be at least one NUMA node, so returning NUMA node zero\n",
      "2022-06-28 03:55:25.581824: I tensorflow/core/common_runtime/gpu/gpu_device.cc:1510] Created device /job:localhost/replica:0/task:0/device:GPU:0 with 15403 MB memory:  -> device: 0, name: Tesla P100-PCIE-16GB, pci bus id: 0000:00:04.0, compute capability: 6.0\n"
     ]
    }
   ],
   "source": [
    "model = buildSimpleNN()"
   ]
  },
  {
   "cell_type": "code",
   "execution_count": 15,
   "id": "e8bd3929",
   "metadata": {
    "execution": {
     "iopub.execute_input": "2022-06-28T03:55:26.095126Z",
     "iopub.status.busy": "2022-06-28T03:55:26.094762Z",
     "iopub.status.idle": "2022-06-28T04:12:22.582397Z",
     "shell.execute_reply": "2022-06-28T04:12:22.581086Z"
    },
    "papermill": {
     "duration": 1016.503985,
     "end_time": "2022-06-28T04:12:22.590509",
     "exception": false,
     "start_time": "2022-06-28T03:55:26.086524",
     "status": "completed"
    },
    "tags": []
   },
   "outputs": [
    {
     "name": "stdout",
     "output_type": "stream",
     "text": [
      "Training model...\n"
     ]
    },
    {
     "name": "stderr",
     "output_type": "stream",
     "text": [
      "2022-06-28 03:55:26.100202: W tensorflow/core/framework/cpu_allocator_impl.cc:80] Allocation of 1003520000 exceeds 10% of free system memory.\n",
      "2022-06-28 03:55:27.218168: W tensorflow/core/framework/cpu_allocator_impl.cc:80] Allocation of 2007040000 exceeds 10% of free system memory.\n",
      "2022-06-28 03:55:29.473109: W tensorflow/core/framework/cpu_allocator_impl.cc:80] Allocation of 1003520000 exceeds 10% of free system memory.\n",
      "2022-06-28 03:55:30.201383: W tensorflow/core/framework/cpu_allocator_impl.cc:80] Allocation of 2007040000 exceeds 10% of free system memory.\n",
      "2022-06-28 03:55:31.763446: I tensorflow/compiler/mlir/mlir_graph_optimization_pass.cc:185] None of the MLIR Optimization Passes are enabled (registered 2)\n",
      "2022-06-28 03:55:33.920666: I tensorflow/stream_executor/cuda/cuda_dnn.cc:369] Loaded cuDNN version 8005\n"
     ]
    },
    {
     "name": "stdout",
     "output_type": "stream",
     "text": [
      "Model trained.\n"
     ]
    }
   ],
   "source": [
    "trainModel(X, Y, model)"
   ]
  },
  {
   "cell_type": "code",
   "execution_count": 16,
   "id": "dd61ec85",
   "metadata": {
    "execution": {
     "iopub.execute_input": "2022-06-28T04:12:22.607252Z",
     "iopub.status.busy": "2022-06-28T04:12:22.606855Z",
     "iopub.status.idle": "2022-06-28T04:12:22.676445Z",
     "shell.execute_reply": "2022-06-28T04:12:22.675086Z"
    },
    "papermill": {
     "duration": 0.081187,
     "end_time": "2022-06-28T04:12:22.679365",
     "exception": false,
     "start_time": "2022-06-28T04:12:22.598178",
     "status": "completed"
    },
    "tags": []
   },
   "outputs": [],
   "source": [
    "from datetime import datetime\n",
    "\n",
    "# Save model\n",
    "model.save(datetime.now().strftime(\"%Y_%m_%d_%H_%M_%S\")+'.h5')"
   ]
  },
  {
   "cell_type": "markdown",
   "id": "549ab176",
   "metadata": {
    "papermill": {
     "duration": 0.007379,
     "end_time": "2022-06-28T04:12:22.694691",
     "exception": false,
     "start_time": "2022-06-28T04:12:22.687312",
     "status": "completed"
    },
    "tags": []
   },
   "source": [
    "## Prediction"
   ]
  },
  {
   "cell_type": "code",
   "execution_count": 17,
   "id": "d3cc7037",
   "metadata": {
    "execution": {
     "iopub.execute_input": "2022-06-28T04:12:22.713681Z",
     "iopub.status.busy": "2022-06-28T04:12:22.711616Z",
     "iopub.status.idle": "2022-06-28T04:12:22.719359Z",
     "shell.execute_reply": "2022-06-28T04:12:22.718005Z"
    },
    "papermill": {
     "duration": 0.019532,
     "end_time": "2022-06-28T04:12:22.722079",
     "exception": false,
     "start_time": "2022-06-28T04:12:22.702547",
     "status": "completed"
    },
    "tags": []
   },
   "outputs": [],
   "source": [
    "# Get the luminance of the image aka the image in black and white\n",
    "def getLFromLab(image_loaded):\n",
    "    L_image = cv.cvtColor(np.float32(\n",
    "        1.0/255 * image_loaded), cv.COLOR_RGB2LAB)[:, :, 0]\n",
    "    L_image = L_image.reshape(1,width,height, 1)\n",
    "    return L_image"
   ]
  },
  {
   "cell_type": "code",
   "execution_count": 18,
   "id": "b14b49b1",
   "metadata": {
    "execution": {
     "iopub.execute_input": "2022-06-28T04:12:22.738874Z",
     "iopub.status.busy": "2022-06-28T04:12:22.738335Z",
     "iopub.status.idle": "2022-06-28T04:12:22.748884Z",
     "shell.execute_reply": "2022-06-28T04:12:22.746689Z"
    },
    "papermill": {
     "duration": 0.02179,
     "end_time": "2022-06-28T04:12:22.751461",
     "exception": false,
     "start_time": "2022-06-28T04:12:22.729671",
     "status": "completed"
    },
    "tags": []
   },
   "outputs": [],
   "source": [
    "# Get a image with colorized pixels\n",
    "def getColorizeImage(image_name, model):\n",
    "    #Get image data\n",
    "    image_loaded = img_to_array(load_img(image_name))\n",
    "    image_loaded = cv.resize(image_loaded, (width, height))\n",
    "    image_loaded = np.array(image_loaded, dtype=float)\n",
    "    #Get luminosity/Black&White image\n",
    "    L_image = getLFromLab(image_loaded)\n",
    "    #Predict\n",
    "    output = model.predict(L_image)\n",
    "    output = output * 128\n",
    "    #Transform output to image\n",
    "    cur = np.zeros((width, height, 3))\n",
    "    cur[:,:,0] = L_image[0][:,:,0]\n",
    "    cur[:,:,1:] = output[0]\n",
    "    #Convert to BGR\n",
    "    cv_result = cv.cvtColor(np.float32(cur),  cv.COLOR_LAB2BGR)\n",
    "    cv_result = cv_result * 255\n",
    "    cv_result = cv_result.round(0)\n",
    "    result_name = 'result_'+datetime.now().strftime(\"%Y_%m_%d_%H_%M_%S\")+'.png'\n",
    "    cv.imwrite(result_name, cv_result)\n"
   ]
  },
  {
   "cell_type": "code",
   "execution_count": 19,
   "id": "9c59ba20",
   "metadata": {
    "execution": {
     "iopub.execute_input": "2022-06-28T04:12:22.768503Z",
     "iopub.status.busy": "2022-06-28T04:12:22.768149Z",
     "iopub.status.idle": "2022-06-28T04:12:24.386958Z",
     "shell.execute_reply": "2022-06-28T04:12:24.385720Z"
    },
    "papermill": {
     "duration": 1.630799,
     "end_time": "2022-06-28T04:12:24.390229",
     "exception": false,
     "start_time": "2022-06-28T04:12:22.759430",
     "status": "completed"
    },
    "tags": []
   },
   "outputs": [],
   "source": [
    "getColorizeImage(\"../input/images/waterfall.jpg\", model)"
   ]
  }
 ],
 "metadata": {
  "kernelspec": {
   "display_name": "Python 3",
   "language": "python",
   "name": "python3"
  },
  "language_info": {
   "codemirror_mode": {
    "name": "ipython",
    "version": 3
   },
   "file_extension": ".py",
   "mimetype": "text/x-python",
   "name": "python",
   "nbconvert_exporter": "python",
   "pygments_lexer": "ipython3",
   "version": "3.7.12"
  },
  "papermill": {
   "default_parameters": {},
   "duration": 1095.127591,
   "end_time": "2022-06-28T04:12:27.379376",
   "environment_variables": {},
   "exception": null,
   "input_path": "__notebook__.ipynb",
   "output_path": "__notebook__.ipynb",
   "parameters": {},
   "start_time": "2022-06-28T03:54:12.251785",
   "version": "2.3.4"
  }
 },
 "nbformat": 4,
 "nbformat_minor": 5
}
